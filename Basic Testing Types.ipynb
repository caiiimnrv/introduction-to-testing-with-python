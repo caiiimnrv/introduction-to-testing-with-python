{
 "cells": [
  {
   "cell_type": "markdown",
   "id": "018eeb1a-1828-4769-b899-fa3cc223176e",
   "metadata": {},
   "source": [
    "## Unit Testing with pytest\n",
    "\n",
    "### What is a unit test\n",
    "**Unit** - the smallest working part that can be tested.\n",
    "- Examples of units: functions, methods, classes, modules, etc.\n",
    "\n",
    "**Unit testing** - software testing method.\n",
    "- Unit testing allows one to scrutinize the correctness of a unit.\n",
    "\n",
    "**Test case** - a set of unit inputs and expected outputs.\n",
    "- Test case summarizes a particular piece of the problem.\n",
    "\n",
    "### Why to use unit tests\n",
    "**Unit tests** - are a foundation for testing \"the bigger picture\" of the software.\n",
    "**Use cases**:\n",
    "- When bugs found\n",
    "- During development\n",
    "- After implemented changes\n",
    "\n",
    "### How to create a unit test\n",
    "Step-by-step:\n",
    "1. Decide which units to test\n",
    "2. Define test cases (the creative part):\n",
    "   - \"What are the possible unit outcomes?\"\n",
    "   - \"How can one use the unit?\"\n",
    "   - \"How should the unit behave in all those cases?\"\n",
    "3. Write code for each test case\n",
    "4. Run the tests and analyze the results\n",
    "\n",
    "### Creating a unit test: example\n",
    "Unit to test:"
   ]
  },
  {
   "cell_type": "code",
   "execution_count": null,
   "id": "189627f8-b6d7-4a43-baac-04d4fa610798",
   "metadata": {},
   "outputs": [],
   "source": [
    "# Function for a sum of elements\n",
    "def sum_of_arr(array:list) -> int:\n",
    "    return sum(array)"
   ]
  },
  {
   "cell_type": "markdown",
   "id": "51e7adfa-700e-461d-a6d9-1abba1e279f0",
   "metadata": {},
   "source": [
    "### Test cases:\n",
    "1. Input is a list of numbers (as expected) - should return the sum\n",
    "2. Input is an empty list - should return 0\n",
    "3. Input is a list containing one number - should return the number\n",
    "\n",
    "### Creating a unit test: code"
   ]
  },
  {
   "cell_type": "code",
   "execution_count": null,
   "id": "1e5e9d7d-5b94-4ad4-9463-2e64b171e330",
   "metadata": {},
   "outputs": [],
   "source": [
    "# Test Case 1: regular array\n",
    "def test_regular():\n",
    "    assert sum_of_arr([1, 2, 3]) == 6\n",
    "    assert sum_of_arr([100, 150]) == 250"
   ]
  },
  {
   "cell_type": "code",
   "execution_count": null,
   "id": "bb0a44f7-5a87-4402-ad90-ab3736a8872a",
   "metadata": {},
   "outputs": [],
   "source": [
    "# Test Case 2: empty list\n",
    "def test_empty():\n",
    "    assert sum_of_arr([]) == 0"
   ]
  },
  {
   "cell_type": "code",
   "execution_count": null,
   "id": "62cbb87c-937c-4fcc-ad1b-27261022ee68",
   "metadata": {},
   "outputs": [],
   "source": [
    "# Test Case 3: one number\n",
    "def test_one_number():\n",
    "    assert sum_of_arr([10]) == 10\n",
    "    assert sum_of_arr([0]) == 0"
   ]
  },
  {
   "cell_type": "code",
   "execution_count": null,
   "id": "3b87d9a9-6f44-4be3-a314-4749ee78ef4d",
   "metadata": {},
   "outputs": [],
   "source": [
    "# Practice 1\n",
    "\n",
    "import pytest\n",
    "\n",
    "def factorial(n):\n",
    "    if n == 0: return 1\n",
    "    elif (type(n) == int):\n",
    "        return n * factorial(n-1)\n",
    "    else: return -1\n",
    "\n",
    "# Test case: expected input\n",
    "def test_regular():\n",
    "    assert factorial(5) == 120\n",
    "\n",
    "# Test case: zero input\n",
    "def test_zero():\n",
    "    assert factorial(0) == 1\n",
    "\n",
    "# Test case: input of a wrong type\n",
    "def test_str():\n",
    "    assert factorial('5') == -1"
   ]
  },
  {
   "cell_type": "markdown",
   "id": "62486b8a-8728-4b57-aafa-9774ef57a235",
   "metadata": {},
   "source": [
    "## Feature Testing with pytest\n",
    "\n",
    "### What is a feature test\n",
    "Feature\n",
    "- a software system functionality.\n",
    "- satisfies a particular user's requirement.\n",
    "\n",
    "Features\n",
    "- are wider that units.\n",
    "- End-user can use features.\n",
    "\n",
    "Feature testing\n",
    "- software testing method.\n",
    "- verify the behavior of a specific feature.\n",
    "\n",
    "Examples:\n",
    "- Data distribution check\n",
    "- Report preparation\n",
    "\n",
    "### Units vs. features: personal computer\n",
    "\n",
    "| Units                    | Features      |\n",
    "|--------------------------|--------------|\n",
    "| Each individual button   | Keyboard     |\n",
    "| Pixels on the screen     | Screen       |\n",
    "| LED diodes               | Illumination |\n",
    "| Blocks on the disk       | File system  |\n",
    "\n",
    "\n",
    "### Why do we use feature tests\n",
    "**Feature testing helps**:\n",
    "- To test things at the scope of the user interaction with a system.\n",
    "\n",
    "The scope is wider than units:\n",
    "- One unit does not work - does not mean the feature is NOT OK.\n",
    "\n",
    "Vice versa:\n",
    "- All units work as expected - does not mean the feature is OK.\n",
    "\n",
    "### Feature test example: setup\n",
    "Setup and defining the feature code:"
   ]
  },
  {
   "cell_type": "code",
   "execution_count": null,
   "id": "88598401-a884-42ce-be49-cf1c579e2b2b",
   "metadata": {},
   "outputs": [],
   "source": [
    "# Setup\n",
    "import pandas as pd\n",
    "import pytest\n",
    "\n",
    "df = pd.read_csv('laptops.csv')\n",
    "\n",
    "# Filter feature\n",
    "def filter_data_by_manuf(df, manufacturer_name): \n",
    "    filtered_df = df[df[\"Manufacturer\"] == manufacturer_name]\n",
    "    return filtered_df"
   ]
  },
  {
   "cell_type": "markdown",
   "id": "27cb4488-64ef-4bd8-9899-c33e56f157a9",
   "metadata": {},
   "source": [
    "### Feature test example: testing\n",
    "Testing code:"
   ]
  },
  {
   "cell_type": "code",
   "execution_count": null,
   "id": "707d88a1-b882-4b9d-a669-3816eb3d5f77",
   "metadata": {},
   "outputs": [],
   "source": [
    "# Feature test function\n",
    "def test_unique():    \n",
    "    manuf_name = 'Apple'   \n",
    "    filtered = filter_data_by_manuf(df, manuf_name)\n",
    "    assert filtered\\       \n",
    "        ['Manufacturer'].nunique() == 1\n",
    "    assert filtered\\     \n",
    "        ['Manufacturer'].unique() == [manuf_name]"
   ]
  },
  {
   "cell_type": "code",
   "execution_count": null,
   "id": "53ffc9b0-ec10-443a-80f0-e672c64ab81e",
   "metadata": {},
   "outputs": [],
   "source": [
    "# Practice 2\n",
    "\n",
    "# Don't forget to run\n",
    "# pytest agg_with_sum.py \n",
    "# in the CLI to actually run the test!\n",
    "\n",
    "import pandas as pd\n",
    "import pytest\n",
    "\n",
    "# Fixture to prepare the data\n",
    "@pytest.fixture\n",
    "def get_df():\n",
    "    return pd.read_csv(\n",
    "        'https://assets.datacamp.com/production/repositories/6253/datasets/757c6cb769f7effc5f5496050ea4d73e4586c2dd/laptops_train.csv'\n",
    "    )\n",
    "\n",
    "# Aggregation feature\n",
    "def agg_with_sum(data, group_by_column, aggregate_column):\n",
    "    return data.groupby(group_by_column)[aggregate_column].sum()\n",
    "\n",
    "# Test function\n",
    "def test_agg_feature(get_df):\n",
    "    # Aggregate preparation\n",
    "    aggregated = agg_with_sum(get_df, 'Manufacturer', 'Price')\n",
    "\n",
    "    # Test the type of aggregated is pd.Series\n",
    "    assert isinstance(aggregated, pd.Series)\n",
    "\n",
    "    # Test the number of rows in aggregated is more than 0\n",
    "    assert len(aggregated) > 0\n",
    "\n",
    "    # Test the data type of aggregated values is either int or float\n",
    "    assert aggregated.dtype in [int, float, 'int64', 'float64']"
   ]
  },
  {
   "attachments": {
    "ec054388-2623-40a2-94ad-8308f0db34e7.png": {
     "image/png": "[encoded data removed]"
    }
   },
   "cell_type": "markdown",
   "id": "5f898072-7521-470d-ac6e-196d027e7ffa",
   "metadata": {},
   "source": [
    "## Integration Testing with Pytest\n",
    "\n",
    "### What is integration testing?\n",
    "- **Integration testing** - software testing method, that allows to verify that an interaction behaves normally.\n",
    "- **Integration** - an interaction between 2 or more modules inside of a system.\n",
    "\n",
    "![Screenshot 2025-08-27 at 10.16.24 AM.png](attachment:ec054388-2623-40a2-94ad-8308f0db34e7.png)\n",
    "\n",
    "### Integrations in real-life projects\n",
    "Examples:\n",
    "- Power cable\n",
    "- Internet connection\n",
    "- File reading driver\n",
    "- Database connection\n",
    "- Application Programming Interface (API) integration\n",
    "\n",
    "### What can go wrong\n",
    "Potential integration problems:\n",
    "- Lost connection\n",
    "- Loss of data\n",
    "- Interaction delays\n",
    "- Low bandwidth\n",
    "- Version conflicts\n",
    "- Interface mismatch\n",
    "- Others\n",
    "\n",
    "### Example of integration testing"
   ]
  },
  {
   "cell_type": "code",
   "execution_count": null,
   "id": "38242395-c8e2-4484-be37-16b19753a2ce",
   "metadata": {},
   "outputs": [],
   "source": [
    "import pytest, os\n",
    "\n",
    "@pytest.fixture\n",
    "def setup_file():\n",
    "    # Create temporary file    \n",
    "    file = \"test_file.txt\"\n",
    "    with open(file, \"w\") as f1:  \n",
    "        f1.write(\"Test data 1\")\n",
    "        yield file    \n",
    "        os.remove(file)\n",
    "\n",
    "def test_fs(setup_file):\n",
    "    file = setup_file\n",
    "    # Check that the file was created successfully\n",
    "    assert os.path.exists(file)"
   ]
  },
  {
   "cell_type": "code",
   "execution_count": null,
   "id": "0ff6bf86-c1e5-4e16-8d54-f7e98cfd3d87",
   "metadata": {},
   "outputs": [],
   "source": [
    "# Practice 3\n",
    "\n",
    "import pandas as pd\n",
    "import pytest\n",
    "\n",
    "# Fixture to read the dataframe\n",
    "@pytest.fixture\n",
    "def get_df():\n",
    "    return pd.read_csv('https://assets.datacamp.com/production/repositories/6253/datasets/757c6cb769f7effc5f5496050ea4d73e4586c2dd/laptops_train.csv')\n",
    "\n",
    "# Integration test function\n",
    "def test_get_df(get_df):\n",
    "    # Check the type\n",
    "    assert isinstance(get_df, pd.DataFrame)\n",
    "    # Check the number of rows\n",
    "    assert len(get_df) > 0"
   ]
  },
  {
   "cell_type": "markdown",
   "id": "3189ea8f-c8d2-41e5-aada-19e47087e545",
   "metadata": {},
   "source": [
    "## Performance Testing with Pytest\n",
    "\n",
    "### What is performance testing\n",
    "- **Performance** - how efficiently does software utilizes the resources of the system to accomplish a task.\n",
    "- **Performance Testing** - is a type of testing that measures software performance.\n",
    "\n",
    "### When performance testing is important\n",
    "| Resources        | Cases                              |\n",
    "|------------------|-----------------------------------|\n",
    "| Execution Time   | Website speed optimization        |\n",
    "| CPU              | App receiving millions of requests|\n",
    "| RAM              | Path planning for a robot vacuum  |\n",
    "| Other resources  |                                   |\n",
    "\n",
    "### Benchmark fixture\n",
    "Installation:"
   ]
  },
  {
   "cell_type": "code",
   "execution_count": null,
   "id": "d7ffdf42-b63e-45c1-8725-77b4faf887ac",
   "metadata": {},
   "outputs": [],
   "source": [
    "pip install pytest-benchmark"
   ]
  },
  {
   "cell_type": "code",
   "execution_count": null,
   "id": "e536fae7-2c47-45f0-989e-158a18bf94b1",
   "metadata": {},
   "outputs": [],
   "source": [
    "# Example_1.py\n",
    "import time\n",
    "\n",
    "def test_func(benchmark):    \n",
    "    benchmark(time.sleep, 1)"
   ]
  },
  {
   "cell_type": "markdown",
   "id": "7d278fff-0e5d-4491-be9d-0ceb4487a276",
   "metadata": {},
   "source": [
    "**CLI Command**: `pytest Example_1.py`"
   ]
  },
  {
   "cell_type": "markdown",
   "id": "30ee8270-01f8-4206-a6ed-c8506ccf1872",
   "metadata": {},
   "source": [
    "### Benchmark decorator"
   ]
  },
  {
   "cell_type": "code",
   "execution_count": null,
   "id": "1fb9cca4-7fb8-4be1-8805-c4df84b40ab8",
   "metadata": {},
   "outputs": [],
   "source": [
    "# Example_2.py\n",
    "import time\n",
    "\n",
    "def test_func(benchmark):  \n",
    "    @benchmark\n",
    "    \n",
    "def sleep_for_1_sec():   \n",
    "    time.sleep(1)"
   ]
  },
  {
   "cell_type": "markdown",
   "id": "66953c90-59c8-434d-8c25-f4ee2ab991a6",
   "metadata": {},
   "source": [
    "**CLI Command**: `pytest Example_2.py`"
   ]
  },
  {
   "cell_type": "code",
   "execution_count": null,
   "id": "27b30780-dd23-4ff1-b1ac-3a48a658660f",
   "metadata": {},
   "outputs": [],
   "source": [
    "# Practice 4\n",
    "\n",
    "def create_list():\n",
    "    return [i for i in range(1000)]\n",
    "def create_set():\n",
    "    return set([i for i in range(1000)])\n",
    "def find(it, el=50):\n",
    "    return el in it\n",
    "\n",
    "# Write the performance test for a list\n",
    "def test_list(benchmark):\n",
    "    benchmark(find, it=create_list())\n",
    "\n",
    "# Write the performance test for a set\n",
    "def test_set(benchmark):\n",
    "    benchmark(find, it=create_set())"
   ]
  },
  {
   "cell_type": "code",
   "execution_count": null,
   "id": "be8f1248-8a3e-44d3-82f9-e9d13446d421",
   "metadata": {},
   "outputs": [],
   "source": [
    "# Practice 5\n",
    "\n",
    "def test_list(benchmark):\n",
    "    # Add decorator here\n",
    "    @benchmark\n",
    "    def iterate_list():\n",
    "        # Complete the loop here\n",
    "        for i in [i for i in range(1000)]:\n",
    "            pass\n",
    "\n",
    "def test_set(benchmark):\n",
    "    # Add decorator here\n",
    "    @benchmark\n",
    "    def iterate_set():\n",
    "        # Complete the loop here\n",
    "        for i in {i for i in range(1000)}:\n",
    "            pass"
   ]
  }
 ],
 "metadata": {
  "kernelspec": {
   "display_name": "Python [conda env:base] *",
   "language": "python",
   "name": "conda-base-py"
  },
  "language_info": {
   "codemirror_mode": {
    "name": "ipython",
    "version": 3
   },
   "file_extension": ".py",
   "mimetype": "text/x-python",
   "name": "python",
   "nbconvert_exporter": "python",
   "pygments_lexer": "ipython3",
   "version": "3.12.7"
  }
 },
 "nbformat": 4,
 "nbformat_minor": 5
}
