{
 "cells": [
  {
   "cell_type": "markdown",
   "id": "816d0d4e-144d-4993-a38f-370b13903361",
   "metadata": {},
   "source": [
    "### Assert in Python\n",
    "- `assert` condition - lets to test if condition is True.\n",
    "- If condition is `False`, Python will raise an `AssertionError`.\n",
    "  \n",
    "### Testing with pytest - a simple example\n",
    "`pytest` - a popular testing framework in Python, which provides a simple way to write tests.\n",
    "Example of an \"assert\" test written with `pytest` in Python:"
   ]
  },
  {
   "cell_type": "code",
   "execution_count": 1,
   "id": "84f2121e-d5ea-498e-9c3d-d830e654fa03",
   "metadata": {},
   "outputs": [],
   "source": [
    "import pytest\n",
    "\n",
    "# A function to test\n",
    "def squared(number):\n",
    "    return number * number\n",
    "    \n",
    "# A test function always starts with \"test\"\n",
    "def test_squared():\n",
    "    assert squared(-2) == squared(2)"
   ]
  },
  {
   "cell_type": "markdown",
   "id": "b1f43913-5854-4fd0-be37-d5a63d7aabfe",
   "metadata": {},
   "source": [
    "### Context managers recap\n",
    "- `Context manager` - a Python object that is used by declaring a with statement\n",
    "- We use context managers to set up and tear down temporary context"
   ]
  },
  {
   "cell_type": "code",
   "execution_count": 2,
   "id": "d4be4307-7640-4e90-abc2-87eca13ad6ba",
   "metadata": {},
   "outputs": [],
   "source": [
    "# Writing to file example\n",
    "with open(\"hello_world.txt\", 'w') as hello_file: \n",
    "    hello_file.write(\"Hello world \\n\")"
   ]
  },
  {
   "cell_type": "markdown",
   "id": "dc338b33-eccb-4f0e-9d92-1872aa7ddfb2",
   "metadata": {},
   "source": [
    "### Meet the pytest: raises\n",
    "`pytest.raises` - when you expect the test to raise an `Exception`"
   ]
  },
  {
   "cell_type": "code",
   "execution_count": 3,
   "id": "ca8070b6-2311-4995-8f7e-102dd6c3af28",
   "metadata": {},
   "outputs": [],
   "source": [
    "import pytest\n",
    "\n",
    "# A function to test\n",
    "def division(a, b):\n",
    "    return a / b\n",
    "    \n",
    "# A test function\n",
    "def test_raises():\n",
    "    with pytest.raises(ZeroDivisionError):       \n",
    "        division(a=25, b=0)\n"
   ]
  },
  {
   "cell_type": "markdown",
   "id": "bd4222a2-74f0-4146-a007-33d282d4a96b",
   "metadata": {},
   "source": [
    "## Summary\n",
    "\n",
    "### Testing is:\n",
    "- A process of evaluating, that software works as expected\n",
    "- Present in everyday life\n",
    "- Essential to tackle the challenges of the software development process\n",
    "- Helps to ensure that the problems are addressed properly\n",
    "\n",
    "### Tests implementation:\n",
    "- `pytest` - a powerful Python framework, that simplifies the testing process\n",
    "- `assert` - a Python keyword, used in pytest for creating basic tests by validating a condition\n",
    "- `pytest.raises` - a context manager, used to create a test that is expected to result in"
   ]
  },
  {
   "cell_type": "code",
   "execution_count": 4,
   "id": "92999963-ab40-4aa9-84e5-818d8696cc9a",
   "metadata": {},
   "outputs": [],
   "source": [
    "# Practice 1\n",
    "\n",
    "def multiple_of_two(num):\n",
    "    if num == 0:\n",
    "        raise(ValueError)\n",
    "    return num % 2 == 0\n",
    "\n",
    "def test_numbers():\n",
    "    assert multiple_of_two(2) is True\n",
    "    # Write the \"False\" test below\n",
    "    assert multiple_of_two(6) is False"
   ]
  },
  {
   "cell_type": "code",
   "execution_count": 5,
   "id": "500d828d-8d48-4297-a1eb-fb3edcab3365",
   "metadata": {},
   "outputs": [],
   "source": [
    "# Practice 2\n",
    "\n",
    "def multiple_of_two(num):\n",
    "    if num == 0:\n",
    "        raise(ValueError)\n",
    "    return num % 2 == 0\n",
    "\n",
    "def test_zero():    \n",
    "  \t# Add a context for an exception test here\n",
    "    with pytest.raises(ValueError):\n",
    "      \t# Check zero input below\n",
    "        multiple_of_two(0)"
   ]
  },
  {
   "cell_type": "markdown",
   "id": "bd776060-6864-4b6e-a3ef-23c13ecd7cb9",
   "metadata": {},
   "source": [
    "### Example CLI run: syntax\n",
    "**Command-Line Interface (CLI)** - a user interface that allows to interact with a computer program by entering text commands into a terminal.\n",
    "\n",
    "The command for running the `slides.py` from **CLI**: \n",
    "`pytest slides.py`\n",
    "\n",
    "**Meaning**: \"Please, run the `pytest` framework using the tests from the `slides.py` module\"\n",
    "\n",
    "### Directory argument\n",
    "The command for running all tests in `tests_dir/`: `pytest tests_dir/`\n",
    "\n",
    "**Meaning**: \"Please, run the `pytest` framework using all found the tests from the `tests_dir` folder\".\n",
    "\n",
    "\n",
    "### Keyword argument - filter tests by name\n",
    "The command for running tests from `tests_ex.py` contains \"squared\": `pytest tests_ex.py -k \"squared\"`\n",
    "\n",
    "**Meaning**: \"Please, run the `pytest` framework using all tests from the `tests_ex.py` script containing `squared`\".\n",
    "\n",
    "## Applying test markers\n",
    "\n",
    "### Overview of test markers\n",
    "- Use case 1: skip the test if the condition met\n",
    "- Use case 2: this test is expected to fail\n",
    "- Test marker - a tag (a marker) of a test in the pytest library\n",
    "- Allows to specify behavior for particular tests by tagging them (marking them)\n",
    "\n",
    "### Markers syntax\n",
    "- **Decorator** - a design pattern in Python that allows a user to add new functionality to an existing object without modifying its structure\n",
    "- **Test markers syntax** are started with `@pytest.mark` decorator:"
   ]
  },
  {
   "cell_type": "code",
   "execution_count": 6,
   "id": "7126a981-bdf2-4bb7-bcdf-e9731ae63187",
   "metadata": {},
   "outputs": [],
   "source": [
    "import pytest\n",
    "\n",
    "def get_length(string):\n",
    "    return len(string)\n",
    "\n",
    "# The test marker syntax\n",
    "@pytest.mark.skip \n",
    "def test_get_len():\n",
    "    assert get_length('123') == 3"
   ]
  },
  {
   "cell_type": "markdown",
   "id": "e74038f4-9b47-442f-8fef-dfe294130230",
   "metadata": {},
   "source": [
    "### Skip and skipif markers\n",
    "- Use `@pytest.mark.skip` - when you want a test to be skipped in any case\n",
    "- Use `@pytest.mark.skipif` - if you want a test to be skipped if a given condition is `True`\n",
    "\n",
    "### Skip marker example\n",
    "Use `@pytest.mark.skip` - when you want a test to be skipped indefinitely."
   ]
  },
  {
   "cell_type": "code",
   "execution_count": 7,
   "id": "38e4a71b-c636-4dd9-85cf-b10354c2e0f9",
   "metadata": {},
   "outputs": [],
   "source": [
    "import pytest\n",
    "\n",
    "def get_length(string):\n",
    "    return len(string)\n",
    "\n",
    "# The skip marker example\n",
    "@pytest.mark.skip\n",
    "def test_get_len():\n",
    "    assert get_length('123') == 3"
   ]
  },
  {
   "cell_type": "markdown",
   "id": "0933f389-79ad-4711-81a1-0c066008eac9",
   "metadata": {},
   "source": [
    "### Skipif marker example\n",
    "Use `@pytest.mark.skipif` - when you want a test to be skipped if the given condition is `True`."
   ]
  },
  {
   "cell_type": "code",
   "execution_count": 8,
   "id": "d724d4fb-e6c7-4130-a855-7226225b6c75",
   "metadata": {},
   "outputs": [],
   "source": [
    "import pytest\n",
    "\n",
    "def get_length(string):\n",
    "    return len(string)\n",
    "\n",
    "# The skipif marker example\n",
    "@pytest.mark.skipif('2 * 2 == 5')\n",
    "def test_get_len():\n",
    "    assert get_length('abc') == 3"
   ]
  },
  {
   "cell_type": "markdown",
   "id": "50ed05bd-b080-4029-8681-22c1e7ee9fc2",
   "metadata": {},
   "source": [
    "### Xfail marker\n",
    "Use `@pytest.mark.xfail` - when you expect a test to be failed"
   ]
  },
  {
   "cell_type": "code",
   "execution_count": 9,
   "id": "2ba7f9a7-afea-4006-ba20-0b1513310a98",
   "metadata": {},
   "outputs": [],
   "source": [
    "import pytest\n",
    "\n",
    "def gen_sequence(n):\n",
    "    return list(range(1, n+1))\n",
    "\n",
    "# The xfail marker example\n",
    "@pytest.mark.xfail\n",
    "def test_gen_seq():\n",
    "    assert gen_sequence(-1)"
   ]
  },
  {
   "cell_type": "code",
   "execution_count": 10,
   "id": "1cbd91e5-46da-4c4a-950a-a95cdefae909",
   "metadata": {},
   "outputs": [],
   "source": [
    "# Practice 3\n",
    "\n",
    "def multiple_of_two(num):\n",
    "    if num == 0:\n",
    "        raise(ValueError)\n",
    "    return num % 2 == 0\n",
    "\n",
    "# Add the pytest marker decorator here\n",
    "@pytest.mark.xfail\n",
    "def test_fails():\n",
    "    # Write any assert test that will fail\n",
    "    assert multiple_of_two(5) is False"
   ]
  },
  {
   "cell_type": "code",
   "execution_count": 13,
   "id": "8dad3239-be82-496c-9a80-0a6eb4c2df12",
   "metadata": {},
   "outputs": [],
   "source": [
    "# Practice 4\n",
    "\n",
    "import datetime\n",
    "\n",
    "day_of_week = datetime.datetime.now().isoweekday()\n",
    "\n",
    "def get_unique_values(lst):\n",
    "    return list(set(lst))\n",
    "\n",
    "condition_string = 'day_of_week == 6'\n",
    "# Add the conditional skip marker and the string here\n",
    "@pytest.mark.skipif(eval(condition_string), reason=\"Skipping test because it's Saturday\")\n",
    "def test_function():\n",
    "\t# Complete the assertion tests here\n",
    "    assert get_unique_values([1,2,3]) == [1,2,3]\n",
    "    assert get_unique_values([1,2,3,1]) == [1,2,3]"
   ]
  },
  {
   "cell_type": "code",
   "execution_count": null,
   "id": "6155d897-5b39-4256-85d9-7c0598fc59d6",
   "metadata": {},
   "outputs": [],
   "source": []
  }
 ],
 "metadata": {
  "kernelspec": {
   "display_name": "Python [conda env:base] *",
   "language": "python",
   "name": "conda-base-py"
  },
  "language_info": {
   "codemirror_mode": {
    "name": "ipython",
    "version": 3
   },
   "file_extension": ".py",
   "mimetype": "text/x-python",
   "name": "python",
   "nbconvert_exporter": "python",
   "pygments_lexer": "ipython3",
   "version": "3.12.7"
  }
 },
 "nbformat": 4,
 "nbformat_minor": 5
}
